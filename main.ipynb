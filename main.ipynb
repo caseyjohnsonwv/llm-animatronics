{
 "cells": [
  {
   "cell_type": "code",
   "execution_count": null,
   "metadata": {},
   "outputs": [],
   "source": [
    "from TTS.api import TTS\n",
    "tts = TTS('tts_models/multilingual/multi-dataset/xtts_v2')"
   ]
  },
  {
   "cell_type": "code",
   "execution_count": null,
   "metadata": {},
   "outputs": [],
   "source": [
    "import pyaudio\n",
    "import numpy as np\n",
    "\n",
    "VOLUME_ADJUSTMENT = 0.05\n",
    "\n",
    "p = pyaudio.PyAudio()\n",
    "OUT_STREAM = p.open(rate=22050, channels=1, format=pyaudio.paFloat32, output=True)\n",
    "\n",
    "def push_speech_to_audio_stream(phrase:str):\n",
    "    wf = tts.tts(\n",
    "        text = phrase,\n",
    "        language = 'en',\n",
    "        speaker_wav = 'hagrid_voice_trimmed.wav',\n",
    "        split_sentences = True,\n",
    "        speed = 2.0,\n",
    "    )\n",
    "    buf = np.asarray(wf, dtype=np.float32) * VOLUME_ADJUSTMENT\n",
    "    OUT_STREAM.write(buf.tobytes())\n",
    "    print(phrase)"
   ]
  },
  {
   "cell_type": "code",
   "execution_count": null,
   "metadata": {},
   "outputs": [],
   "source": [
    "import re\n",
    "import threading\n",
    "import ollama\n",
    "\n",
    "model_id = 'hagrid'\n",
    "if model_id in ollama.list():\n",
    "    ollama.delete(model_id)\n",
    "ollama.create(model_id, path=f\"{model_id}.modelfile\")\n",
    "\n",
    "phrase_end_pattern = re.compile(r'[!\\?\\.\\,]')\n",
    "action_pattern = re.compile(r'\\*\\w+\\*')\n",
    "\n",
    "phrase = []\n",
    "threads = []\n",
    "for part in ollama.generate(model_id, prompt='hello', stream=True):\n",
    "    token = part['response']\n",
    "    phrase.append(token)\n",
    "    token = action_pattern.sub('', token)\n",
    "    if phrase_end_pattern.search(token):\n",
    "        output = ''.join(phrase)\n",
    "        t = threading.Thread(target=push_speech_to_audio_stream, name='TTS', kwargs={'phrase':output})\n",
    "        t.start()\n",
    "        threads.append(t)\n",
    "        phrase = []\n",
    "\n",
    "OUT_STREAM.start_stream()\n",
    "for t in threads:\n",
    "    t.join()"
   ]
  }
 ],
 "metadata": {
  "kernelspec": {
   "display_name": "llm-animatronics",
   "language": "python",
   "name": "python3"
  },
  "language_info": {
   "codemirror_mode": {
    "name": "ipython",
    "version": 3
   },
   "file_extension": ".py",
   "mimetype": "text/x-python",
   "name": "python",
   "nbconvert_exporter": "python",
   "pygments_lexer": "ipython3",
   "version": "3.11.7"
  }
 },
 "nbformat": 4,
 "nbformat_minor": 2
}
